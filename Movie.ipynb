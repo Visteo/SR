{
 "cells": [
  {
   "cell_type": "code",
   "execution_count": 6,
   "metadata": {},
   "outputs": [
    {
     "name": "stdout",
     "output_type": "stream",
     "text": [
      "                                         title  \\\n",
      "0  Bugs Bunny's Third Movie: 1001 Rabbit Tales   \n",
      "1                    18 anni tra una settimana   \n",
      "2                             Ride a Wild Pony   \n",
      "3                                        Diner   \n",
      "4              A che servono questi quattrini?   \n",
      "\n",
      "                        processed_title  \n",
      "0  bugs bunnys third movie rabbit tales  \n",
      "1                anni tra una settimana  \n",
      "2                      ride a wild pony  \n",
      "3                                 diner  \n",
      "4        a che servono questi quattrini  \n",
      "Preprocessed data saved to D:/movie_recommendation_project/processed_filmtv_movies.csv\n"
     ]
    }
   ],
   "source": [
    "import pandas as pd\n",
    "import re\n",
    "\n",
    "# Load the dataset\n",
    "file_path = 'D:/movie_recommendation_project/filmtv_movies.csv'\n",
    "data = pd.read_csv(file_path)\n",
    "\n",
    "# Define a function to preprocess the 'title' column\n",
    "def preprocess_title(title):\n",
    "    # Convert to lowercase\n",
    "    title = title.lower()\n",
    "    # Remove numbers\n",
    "    title = re.sub(r'\\d+', '', title)\n",
    "    # Remove punctuation\n",
    "    title = re.sub(r'[^\\w\\s]', '', title)\n",
    "    # Remove extra spaces\n",
    "    title = re.sub(r'\\s+', ' ', title).strip()\n",
    "    return title\n",
    "\n",
    "# Apply the preprocessing function to the 'title' column\n",
    "data['processed_title'] = data['title'].apply(preprocess_title)\n",
    "\n",
    "# Display the first few rows to verify the preprocessing\n",
    "print(data[['title', 'processed_title']].head())\n",
    "\n",
    "# Save the preprocessed data to a new file if needed\n",
    "output_path = 'D:/movie_recommendation_project/processed_filmtv_movies.csv'\n",
    "data.to_csv(output_path, index=False)\n",
    "print(f\"Preprocessed data saved to {output_path}\")\n"
   ]
  }
 ],
 "metadata": {
  "kernelspec": {
   "display_name": "Python 3",
   "language": "python",
   "name": "python3"
  },
  "language_info": {
   "codemirror_mode": {
    "name": "ipython",
    "version": 3
   },
   "file_extension": ".py",
   "mimetype": "text/x-python",
   "name": "python",
   "nbconvert_exporter": "python",
   "pygments_lexer": "ipython3",
   "version": "3.13.1"
  }
 },
 "nbformat": 4,
 "nbformat_minor": 2
}
